{
 "cells": [
  {
   "cell_type": "markdown",
   "metadata": {},
   "source": [
    "# Preprocessing Text Data\n",
    "\n",
    "The purpose of this notebook is to conduct the preprocessing steps that are necessary for text data in NLP. This includes tokenizing, removing stop words, vectorizing, etc."
   ]
  },
  {
   "cell_type": "code",
   "execution_count": 1,
   "metadata": {},
   "outputs": [
    {
     "name": "stderr",
     "output_type": "stream",
     "text": [
      "[nltk_data] Downloading package punkt to\n",
      "[nltk_data]     C:\\Users\\Ricky\\AppData\\Roaming\\nltk_data...\n",
      "[nltk_data]   Package punkt is already up-to-date!\n"
     ]
    }
   ],
   "source": [
    "import numpy as np\n",
    "import pandas as pd\n",
    "import matplotlib.pyplot as plt\n",
    "from matplotlib import cm\n",
    "import seaborn as sns; sns.set()\n",
    "%matplotlib inline\n",
    "# packages for NLP preprocessing\n",
    "import nltk\n",
    "nltk.download('punkt')\n",
    "from sklearn.feature_extraction import text \n",
    "from nltk.stem import WordNetLemmatizer \n",
    "from nltk.probability import FreqDist\n",
    "from nltk.corpus import stopwords\n",
    "from nltk.stem import PorterStemmer\n",
    "from nltk.collocations import *\n",
    "import pickle"
   ]
  },
  {
   "cell_type": "markdown",
   "metadata": {},
   "source": [
    "### Loading in the clean dataframe from `data_cleaning.ipynb`\n"
   ]
  },
  {
   "cell_type": "code",
   "execution_count": 2,
   "metadata": {},
   "outputs": [],
   "source": [
    "# this is our corpus\n",
    "clean_df = pd.read_pickle(r'C:\\Users\\Ricky\\Desktop\\4.2 FINAL SEMESTER\\PROJECT II  Computer systems Project\\rOOT\\Preprocessing\\clean_df.pkl')"
   ]
  },
  {
   "cell_type": "code",
   "execution_count": 3,
   "metadata": {},
   "outputs": [
    {
     "data": {
      "text/html": [
       "<div>\n",
       "<style scoped>\n",
       "    .dataframe tbody tr th:only-of-type {\n",
       "        vertical-align: middle;\n",
       "    }\n",
       "\n",
       "    .dataframe tbody tr th {\n",
       "        vertical-align: top;\n",
       "    }\n",
       "\n",
       "    .dataframe thead th {\n",
       "        text-align: right;\n",
       "    }\n",
       "</style>\n",
       "<table border=\"1\" class=\"dataframe\">\n",
       "  <thead>\n",
       "    <tr style=\"text-align: right;\">\n",
       "      <th></th>\n",
       "      <th>total_votes</th>\n",
       "      <th>hate_speech_votes</th>\n",
       "      <th>other_votes</th>\n",
       "      <th>label</th>\n",
       "      <th>tweet</th>\n",
       "      <th>clean_tweets</th>\n",
       "    </tr>\n",
       "  </thead>\n",
       "  <tbody>\n",
       "    <tr>\n",
       "      <th>0</th>\n",
       "      <td>3</td>\n",
       "      <td>1</td>\n",
       "      <td>3</td>\n",
       "      <td>0</td>\n",
       "      <td>kindly say bickering to kikuyus and kalenjins....</td>\n",
       "      <td>kindly say bickering to kikuyus and kalenjins ...</td>\n",
       "    </tr>\n",
       "    <tr>\n",
       "      <th>1</th>\n",
       "      <td>3</td>\n",
       "      <td>1</td>\n",
       "      <td>3</td>\n",
       "      <td>0</td>\n",
       "      <td>kindly remind them that we do not have thoroug...</td>\n",
       "      <td>kindly remind them that we do not have thoroug...</td>\n",
       "    </tr>\n",
       "    <tr>\n",
       "      <th>2</th>\n",
       "      <td>3</td>\n",
       "      <td>1</td>\n",
       "      <td>3</td>\n",
       "      <td>0</td>\n",
       "      <td>kindly look at moses' statement. where has he ...</td>\n",
       "      <td>kindly look at moses statement where has he sa...</td>\n",
       "    </tr>\n",
       "    <tr>\n",
       "      <th>3</th>\n",
       "      <td>3</td>\n",
       "      <td>1</td>\n",
       "      <td>3</td>\n",
       "      <td>0</td>\n",
       "      <td>kindly like this page&gt;&gt;&gt;wtf fun facts maasai a...</td>\n",
       "      <td>kindly like this pagewtf fun facts maasai are ...</td>\n",
       "    </tr>\n",
       "    <tr>\n",
       "      <th>4</th>\n",
       "      <td>3</td>\n",
       "      <td>1</td>\n",
       "      <td>3</td>\n",
       "      <td>0</td>\n",
       "      <td>kindly kikuyus humble yourselves in 2022 and t...</td>\n",
       "      <td>kindly kikuyus humble yourselves in and take t...</td>\n",
       "    </tr>\n",
       "  </tbody>\n",
       "</table>\n",
       "</div>"
      ],
      "text/plain": [
       "   total_votes  hate_speech_votes  other_votes  label  \\\n",
       "0            3                  1            3      0   \n",
       "1            3                  1            3      0   \n",
       "2            3                  1            3      0   \n",
       "3            3                  1            3      0   \n",
       "4            3                  1            3      0   \n",
       "\n",
       "                                               tweet  \\\n",
       "0  kindly say bickering to kikuyus and kalenjins....   \n",
       "1  kindly remind them that we do not have thoroug...   \n",
       "2  kindly look at moses' statement. where has he ...   \n",
       "3  kindly like this page>>>wtf fun facts maasai a...   \n",
       "4  kindly kikuyus humble yourselves in 2022 and t...   \n",
       "\n",
       "                                        clean_tweets  \n",
       "0  kindly say bickering to kikuyus and kalenjins ...  \n",
       "1  kindly remind them that we do not have thoroug...  \n",
       "2  kindly look at moses statement where has he sa...  \n",
       "3  kindly like this pagewtf fun facts maasai are ...  \n",
       "4  kindly kikuyus humble yourselves in and take t...  "
      ]
     },
     "execution_count": 3,
     "metadata": {},
     "output_type": "execute_result"
    }
   ],
   "source": [
    "clean_df.head()"
   ]
  },
  {
   "cell_type": "markdown",
   "metadata": {},
   "source": [
    "### Creating `tweet_df` with only cleaned tweets column"
   ]
  },
  {
   "cell_type": "code",
   "execution_count": 4,
   "metadata": {},
   "outputs": [],
   "source": [
    "tweet_df = clean_df[['clean_tweets', 'label']].copy()"
   ]
  },
  {
   "cell_type": "code",
   "execution_count": 5,
   "metadata": {},
   "outputs": [
    {
     "data": {
      "text/html": [
       "<div>\n",
       "<style scoped>\n",
       "    .dataframe tbody tr th:only-of-type {\n",
       "        vertical-align: middle;\n",
       "    }\n",
       "\n",
       "    .dataframe tbody tr th {\n",
       "        vertical-align: top;\n",
       "    }\n",
       "\n",
       "    .dataframe thead th {\n",
       "        text-align: right;\n",
       "    }\n",
       "</style>\n",
       "<table border=\"1\" class=\"dataframe\">\n",
       "  <thead>\n",
       "    <tr style=\"text-align: right;\">\n",
       "      <th></th>\n",
       "      <th>clean_tweets</th>\n",
       "      <th>label</th>\n",
       "    </tr>\n",
       "  </thead>\n",
       "  <tbody>\n",
       "    <tr>\n",
       "      <th>0</th>\n",
       "      <td>kindly say bickering to kikuyus and kalenjins ...</td>\n",
       "      <td>0</td>\n",
       "    </tr>\n",
       "    <tr>\n",
       "      <th>1</th>\n",
       "      <td>kindly remind them that we do not have thoroug...</td>\n",
       "      <td>0</td>\n",
       "    </tr>\n",
       "    <tr>\n",
       "      <th>2</th>\n",
       "      <td>kindly look at moses statement where has he sa...</td>\n",
       "      <td>0</td>\n",
       "    </tr>\n",
       "    <tr>\n",
       "      <th>3</th>\n",
       "      <td>kindly like this pagewtf fun facts maasai are ...</td>\n",
       "      <td>0</td>\n",
       "    </tr>\n",
       "    <tr>\n",
       "      <th>4</th>\n",
       "      <td>kindly kikuyus humble yourselves in and take t...</td>\n",
       "      <td>0</td>\n",
       "    </tr>\n",
       "  </tbody>\n",
       "</table>\n",
       "</div>"
      ],
      "text/plain": [
       "                                        clean_tweets  label\n",
       "0  kindly say bickering to kikuyus and kalenjins ...      0\n",
       "1  kindly remind them that we do not have thoroug...      0\n",
       "2  kindly look at moses statement where has he sa...      0\n",
       "3  kindly like this pagewtf fun facts maasai are ...      0\n",
       "4  kindly kikuyus humble yourselves in and take t...      0"
      ]
     },
     "execution_count": 5,
     "metadata": {},
     "output_type": "execute_result"
    }
   ],
   "source": [
    "tweet_df.head()"
   ]
  },
  {
   "cell_type": "code",
   "execution_count": 6,
   "metadata": {},
   "outputs": [],
   "source": [
    "data = tweet_df['clean_tweets']\n",
    "target = tweet_df['label']"
   ]
  },
  {
   "cell_type": "markdown",
   "metadata": {},
   "source": [
    "## Tokenizing Before Removing Stop Words"
   ]
  },
  {
   "cell_type": "markdown",
   "metadata": {},
   "source": [
    "When working with text data, one of the first steps is to remove stop words from the corpus. Although text would be gramatically incorrect without these stop words, they provide little value to models and typically hinder performace.\n",
    "\n",
    "Before removing stop words, let's take a look at the top words in this corpus."
   ]
  },
  {
   "cell_type": "code",
   "execution_count": 7,
   "metadata": {},
   "outputs": [],
   "source": [
    "# function to tokenize without removing stop words\n",
    "def unfiltered_tokens(text):\n",
    "    dirty_tokens = nltk.word_tokenize(text)\n",
    "    return dirty_tokens"
   ]
  },
  {
   "cell_type": "code",
   "execution_count": 8,
   "metadata": {},
   "outputs": [],
   "source": [
    "# applying this function to the `clean_tweets` column\n",
    "unfilterd_data = list(map(unfiltered_tokens, data))\n",
    "#\"notebook.output.textLineLimit\":500"
   ]
  },
  {
   "cell_type": "code",
   "execution_count": 9,
   "metadata": {},
   "outputs": [],
   "source": [
    "# morphing `unfiltered_data` into a readable list\n",
    "flat_unfiltered = [item for sublist in unfilterd_data for item in sublist]"
   ]
  },
  {
   "cell_type": "code",
   "execution_count": 15,
   "metadata": {},
   "outputs": [
    {
     "data": {
      "text/plain": [
       "[('the', 24565),\n",
       " ('are', 20792),\n",
       " ('to', 19375),\n",
       " ('and', 13474),\n",
       " ('you', 13208),\n",
       " ('is', 13182),\n",
       " ('a', 11662),\n",
       " ('of', 11625),\n",
       " ('in', 11261),\n",
       " ('we', 11208),\n",
       " ('kikuyus', 8045),\n",
       " ('this', 7463),\n",
       " ('for', 7292),\n",
       " ('all', 6140),\n",
       " ('that', 6064),\n",
       " ('not', 5877),\n",
       " ('i', 5669),\n",
       " ('they', 5523),\n",
       " ('be', 5133),\n",
       " ('have', 5125),\n",
       " ('on', 5049),\n",
       " ('with', 4905),\n",
       " ('luos', 4769),\n",
       " ('will', 4695),\n",
       " ('it', 4405),\n",
       " ('what', 4359),\n",
       " ('who', 4183),\n",
       " ('why', 3986),\n",
       " ('when', 3984),\n",
       " ('your', 3559),\n",
       " ('but', 3096),\n",
       " ('from', 2986),\n",
       " ('nyakundi', 2934),\n",
       " ('pictwittercom', 2883),\n",
       " ('by', 2874),\n",
       " ('as', 2867),\n",
       " ('kenya', 2728),\n",
       " ('he', 2716),\n",
       " ('people', 2667),\n",
       " ('their', 2482),\n",
       " ('our', 2439),\n",
       " ('can', 2427),\n",
       " ('like', 2400),\n",
       " ('do', 2389),\n",
       " ('at', 2303),\n",
       " ('so', 2286),\n",
       " ('was', 2274),\n",
       " ('just', 2253),\n",
       " ('na', 2188),\n",
       " ('us', 2122),\n",
       " ('hate', 2099),\n",
       " ('them', 2090),\n",
       " ('no', 2065),\n",
       " ('dont', 2054),\n",
       " ('has', 2034),\n",
       " ('should', 1989),\n",
       " ('uhuru', 1984),\n",
       " ('or', 1954),\n",
       " ('if', 1951),\n",
       " ('one', 1909),\n",
       " ('kalenjins', 1901),\n",
       " ('know', 1875),\n",
       " ('kenyans', 1859),\n",
       " ('its', 1855),\n",
       " ('about', 1839),\n",
       " ('only', 1837),\n",
       " ('now', 1817),\n",
       " ('u', 1803),\n",
       " ('my', 1766),\n",
       " ('ni', 1761),\n",
       " ('his', 1757),\n",
       " ('luhyas', 1693),\n",
       " ('up', 1584),\n",
       " ('raila', 1576),\n",
       " ('hawa', 1551),\n",
       " ('kill', 1539),\n",
       " ('those', 1521),\n",
       " ('how', 1488),\n",
       " ('out', 1454),\n",
       " ('were', 1438),\n",
       " ('where', 1411),\n",
       " ('me', 1391),\n",
       " ('an', 1336),\n",
       " ('jubilee', 1331),\n",
       " ('other', 1324),\n",
       " ('time', 1315),\n",
       " ('there', 1314),\n",
       " ('him', 1312),\n",
       " ('cant', 1311),\n",
       " ('maasai', 1307),\n",
       " ('must', 1307),\n",
       " ('being', 1255),\n",
       " ('need', 1223),\n",
       " ('masai', 1215),\n",
       " ('very', 1207),\n",
       " ('go', 1175),\n",
       " ('more', 1161),\n",
       " ('even', 1125),\n",
       " ('get', 1112),\n",
       " ('never', 1081)]"
      ]
     },
     "execution_count": 15,
     "metadata": {},
     "output_type": "execute_result"
    }
   ],
   "source": [
    "# getting frequency distribution\n",
    "dirty_corpus_freqdist = FreqDist(flat_unfiltered)\n",
    "# top 20 words in the corpus\n",
    "dirty_corpus_freqdist.most_common(100)"
   ]
  },
  {
   "cell_type": "code",
   "execution_count": 16,
   "metadata": {},
   "outputs": [
    {
     "name": "stderr",
     "output_type": "stream",
     "text": [
      "[nltk_data] Downloading package stopwords to\n",
      "[nltk_data]     C:\\Users\\Ricky\\AppData\\Roaming\\nltk_data...\n",
      "[nltk_data]   Package stopwords is already up-to-date!\n"
     ]
    }
   ],
   "source": [
    "import nltk\n",
    "nltk.download('stopwords')\n",
    "from nltk.corpus import stopwords"
   ]
  },
  {
   "cell_type": "code",
   "execution_count": 79,
   "metadata": {},
   "outputs": [
    {
     "name": "stdout",
     "output_type": "stream",
     "text": [
      "['i', 'me', 'my', 'myself', 'we', 'our', 'ours', 'ourselves', 'you', \"you're\", \"you've\", \"you'll\", \"you'd\", 'your', 'yours', 'yourself', 'yourselves', 'he', 'him', 'his', 'himself', 'she', \"she's\", 'her', 'hers', 'herself', 'it', \"it's\", 'its', 'itself', 'they', 'them', 'their', 'theirs', 'themselves', 'what', 'which', 'who', 'whom', 'this', 'that', \"that'll\", 'these', 'those', 'am', 'is', 'are', 'was', 'were', 'be', 'been', 'being', 'have', 'has', 'had', 'having', 'do', 'does', 'did', 'doing', 'a', 'an', 'the', 'and', 'but', 'if', 'or', 'because', 'as', 'until', 'while', 'of', 'at', 'by', 'for', 'with', 'about', 'against', 'between', 'into', 'through', 'during', 'before', 'after', 'above', 'below', 'to', 'from', 'up', 'down', 'in', 'out', 'on', 'off', 'over', 'under', 'again', 'further', 'then', 'once', 'here', 'there', 'when', 'where', 'why', 'how', 'all', 'any', 'both', 'each', 'few', 'more', 'most', 'other', 'some', 'such', 'no', 'nor', 'not', 'only', 'own', 'same', 'so', 'than', 'too', 'very', 's', 't', 'can', 'will', 'just', 'don', \"don't\", 'should', \"should've\", 'now', 'd', 'll', 'm', 'o', 're', 've', 'y', 'ain', 'aren', \"aren't\", 'couldn', \"couldn't\", 'didn', \"didn't\", 'doesn', \"doesn't\", 'hadn', \"hadn't\", 'hasn', \"hasn't\", 'haven', \"haven't\", 'isn', \"isn't\", 'ma', 'mightn', \"mightn't\", 'mustn', \"mustn't\", 'needn', \"needn't\", 'shan', \"shan't\", 'shouldn', \"shouldn't\", 'wasn', \"wasn't\", 'weren', \"weren't\", 'won', \"won't\", 'wouldn', \"wouldn't\"]\n"
     ]
    }
   ],
   "source": [
    "print(stopwords.words('english'))"
   ]
  },
  {
   "cell_type": "markdown",
   "metadata": {},
   "source": []
  },
  {
   "cell_type": "code",
   "execution_count": 80,
   "metadata": {},
   "outputs": [
    {
     "name": "stdout",
     "output_type": "stream",
     "text": [
      "{'do', 'both', 's', 'now', 'where', 'mightn', 'hadn', \"hadn't\", 'most', 'at', 'under', 'if', 'below', 'me', 've', 'during', 'yourselves', 'through', 'after', 'these', \"doesn't\", \"aren't\", 'y', \"haven't\", 'shan', 'should', 'above', 'but', \"that'll\", 'll', 'wasn', 'an', 'there', 'couldn', 'ourselves', 'this', 'not', 'had', 'doing', 'why', 'off', 'each', 'mustn', 'until', 'in', 'any', 'other', 'will', 'shouldn', 'ours', 'with', 'very', 'o', 'has', 'out', 'needn', 'down', 'whom', 'here', \"you'd\", 'same', 'my', \"mightn't\", 'the', 'i', 'haven', 'to', 'up', 'were', 'd', 'again', 'being', 'that', 'ma', 'more', 'your', \"she's\", 'between', 'few', 'is', 'because', \"wasn't\", 'hasn', 'don', \"you've\", 'didn', 'was', 'be', \"should've\", 're', 'and', 'all', 'a', \"won't\", 'for', 'own', 'which', 'nor', \"hasn't\", 'doesn', 'further', 'than', 'have', \"shouldn't\", 'who', 'only', 'we', 'against', 'can', 'about', 'before', 'by', 'of', 'myself', 'ni', 'did', \"wouldn't\", 'wouldn', 'pictwittercom', 'how', 'once', 'as', \"isn't\", 'ain', 'while', 'into', 'our', 'yours', 'so', 'too', 'what', \"you're\", 'from', 'aren', \"couldn't\", \"it's\", \"you'll\", 'over', \"didn't\", 'some', 'yourself', \"don't\", \"mustn't\", 'am', 'are', 'been', 't', 'or', 'just', 'm', 'then', 'does', 'on', \"shan't\", 'having', 'weren', 'when', 'no', 'you', 'isn', 'won', 'those', 'such', \"weren't\", \"needn't\"}\n"
     ]
    }
   ],
   "source": [
    "from nltk.corpus import stopwords\n",
    "\n",
    "stop_words = set(stopwords.words('english'))\n",
    "\n",
    "#add words that aren't in the NLTK stopwords list\n",
    "new_stopwords = ['is','ni','pictwittercom']\n",
    "new_stopwords_list = stop_words.union(new_stopwords)\n",
    "\n",
    "#remove words that are in NLTK stopwords list\n",
    "not_stopwords = {'he','him','his','himself','she','her','hers','herself','it','its','itself','they','them','their','theirs', 'themselves'} \n",
    "final_stop_words = set([word for word in new_stopwords_list if word not in not_stopwords])\n",
    "\n",
    "print(final_stop_words)"
   ]
  },
  {
   "cell_type": "markdown",
   "metadata": {},
   "source": [
    "We can see that stop words typically dominate the top spots. Such as 'the', 'are',  'to', etc. But this tells us nothing about the actual content of the corpus, and will negatively impact model performance.\n",
    "\n",
    "Let's actually remove the stop words now."
   ]
  },
  {
   "cell_type": "markdown",
   "metadata": {},
   "source": [
    "## Removing Stop Words in Tokenization\n",
    "We can use NLTK's built-in library of stop words to remove them in a tokenizing function."
   ]
  },
  {
   "cell_type": "code",
   "execution_count": 20,
   "metadata": {},
   "outputs": [
    {
     "name": "stderr",
     "output_type": "stream",
     "text": [
      "[nltk_data] Downloading package stopwords to\n",
      "[nltk_data]     C:\\Users\\Ricky\\AppData\\Roaming\\nltk_data...\n",
      "[nltk_data]   Package stopwords is already up-to-date!\n"
     ]
    },
    {
     "data": {
      "text/plain": [
       "True"
      ]
     },
     "execution_count": 20,
     "metadata": {},
     "output_type": "execute_result"
    }
   ],
   "source": [
    "nltk.download('stopwords')"
   ]
  },
  {
   "cell_type": "code",
   "execution_count": 19,
   "metadata": {},
   "outputs": [],
   "source": [
    "stop_words = set(stopwords.words('english'))"
   ]
  },
  {
   "cell_type": "code",
   "execution_count": 21,
   "metadata": {},
   "outputs": [],
   "source": [
    "def process_tweet(text):\n",
    "    tokens = nltk.word_tokenize(text)\n",
    "    stopwords_removed = [token.lower() for token in tokens if token.lower() not in stop_words]\n",
    "    return stopwords_removed "
   ]
  },
  {
   "cell_type": "code",
   "execution_count": 22,
   "metadata": {},
   "outputs": [],
   "source": [
    "# applying the above function to our data/features \n",
    "processed_data = list(map(process_tweet, data))"
   ]
  },
  {
   "cell_type": "code",
   "execution_count": 85,
   "metadata": {},
   "outputs": [
    {
     "data": {
      "text/plain": [
       "51084"
      ]
     },
     "execution_count": 85,
     "metadata": {},
     "output_type": "execute_result"
    }
   ],
   "source": [
    "total_vocab = set()\n",
    "for comment in processed_data:\n",
    "    total_vocab.update(comment)\n",
    "len(total_vocab)"
   ]
  },
  {
   "cell_type": "code",
   "execution_count": 23,
   "metadata": {},
   "outputs": [],
   "source": [
    "# pickling procesed_data for later use\n",
    "pickle_out = open(r'C:\\Users\\Ricky\\Desktop\\4.2 FINAL SEMESTER\\PROJECT II  Computer systems Project\\rOOT\\Preprocessing\\pickle\\processed_data.pkl','wb')\n",
    "pickle.dump(processed_data, pickle_out)\n",
    "pickle_out.close()"
   ]
  },
  {
   "cell_type": "markdown",
   "metadata": {},
   "source": [
    "Here we can see that our corpus has a vocabulary of 51084. This would also be the number of columns in the sparse matrix after we vectorize the data later."
   ]
  },
  {
   "cell_type": "markdown",
   "metadata": {},
   "source": [
    "Now that the stop words are removed and the corpus is tokenized, let's take a look at the top words in this corpus."
   ]
  },
  {
   "cell_type": "code",
   "execution_count": 32,
   "metadata": {},
   "outputs": [
    {
     "data": {
      "text/plain": [
       "[('kikuyus', 8045),\n",
       " ('luos', 4769),\n",
       " ('nyakundi', 2934),\n",
       " ('pictwittercom', 2883),\n",
       " ('kenya', 2728),\n",
       " ('people', 2667),\n",
       " ('like', 2400),\n",
       " ('na', 2188),\n",
       " ('us', 2122),\n",
       " ('hate', 2099),\n",
       " ('dont', 2054),\n",
       " ('uhuru', 1984),\n",
       " ('one', 1909),\n",
       " ('kalenjins', 1901),\n",
       " ('know', 1875),\n",
       " ('kenyans', 1859),\n",
       " ('u', 1803),\n",
       " ('ni', 1761),\n",
       " ('luhyas', 1693),\n",
       " ('raila', 1576)]"
      ]
     },
     "execution_count": 32,
     "metadata": {},
     "output_type": "execute_result"
    }
   ],
   "source": [
    "# morphing `processed_data` into a readable list\n",
    "flat_filtered = [item for sublist in processed_data for item in sublist]\n",
    "# getting frequency distribution\n",
    "clean_corpus_freqdist = FreqDist(flat_filtered)\n",
    "# top 20 words in cleaned corpus\n",
    "clean_corpus_freqdist.most_common(20)"
   ]
  },
  {
   "cell_type": "markdown",
   "metadata": {},
   "source": [
    "We can see that the \"meaningless\" stop words have been removed from the corpus. Some of the words here are still up for debate, but let's run this data through some baseline models and see how they perform."
   ]
  },
  {
   "cell_type": "markdown",
   "metadata": {},
   "source": [
    "## Lemmatization\n",
    "\n",
    "This last method reduces each word into a linguistically valid **lemma**, or root word. It does this through linguistic mappings, using the WordNet lexical database.\n"
   ]
  },
  {
   "cell_type": "code",
   "execution_count": 30,
   "metadata": {},
   "outputs": [
    {
     "name": "stderr",
     "output_type": "stream",
     "text": [
      "[nltk_data] Error loading wordnet: <urlopen error [Errno 11001]\n",
      "[nltk_data]     getaddrinfo failed>\n"
     ]
    },
    {
     "data": {
      "text/plain": [
       "False"
      ]
     },
     "execution_count": 30,
     "metadata": {},
     "output_type": "execute_result"
    }
   ],
   "source": [
    "nltk.download('wordnet')"
   ]
  },
  {
   "cell_type": "code",
   "execution_count": 24,
   "metadata": {},
   "outputs": [],
   "source": [
    "# creating a list with all lemmatized outputs\n",
    "lemmatizer = WordNetLemmatizer() \n",
    "lemmatized_output = []\n",
    "\n",
    "for listy in processed_data:\n",
    "    lemmed = ' '.join([lemmatizer.lemmatize(w) for w in listy])\n",
    "    lemmatized_output.append(lemmed)"
   ]
  },
  {
   "cell_type": "code",
   "execution_count": 25,
   "metadata": {},
   "outputs": [],
   "source": [
    "X_lem = lemmatized_output\n",
    "y_lem = target"
   ]
  },
  {
   "cell_type": "code",
   "execution_count": 26,
   "metadata": {},
   "outputs": [],
   "source": [
    "# pickle these for modeling\n",
    "pickle_out = open(r'C:\\Users\\Ricky\\Desktop\\4.2 FINAL SEMESTER\\PROJECT II  Computer systems Project\\rOOT\\Preprocessing\\pickle\\X_lem.pkl','wb')\n",
    "pickle.dump(X_lem, pickle_out)\n",
    "pickle_out.close()"
   ]
  },
  {
   "cell_type": "code",
   "execution_count": 27,
   "metadata": {},
   "outputs": [],
   "source": [
    "y_lem.to_pickle(r'C:\\Users\\Ricky\\Desktop\\4.2 FINAL SEMESTER\\PROJECT II  Computer systems Project\\rOOT\\Preprocessing\\pickle\\y_lem.pkl')"
   ]
  },
  {
   "cell_type": "markdown",
   "metadata": {},
   "source": [
    "### Now `X_lem` and `y_lem` are ready to be brought over to the modeling notebooks."
   ]
  },
  {
   "cell_type": "markdown",
   "metadata": {},
   "source": [
    "## Additional Corpus EDA - Creating Bigrams\n",
    "\n",
    "Knowing individual word frequencies is somewhat informative, but in practice, some of these tokens are actually parts of larger phrases that should be treated as a single unit. Let's create some bigrams, and see which combinations of words are most telling."
   ]
  },
  {
   "cell_type": "code",
   "execution_count": 28,
   "metadata": {},
   "outputs": [],
   "source": [
    "bigram_measures = nltk.collocations.BigramAssocMeasures()"
   ]
  },
  {
   "cell_type": "code",
   "execution_count": 33,
   "metadata": {},
   "outputs": [],
   "source": [
    "# creating a finder & passing in tokenized corpus\n",
    "bigram_finder = BigramCollocationFinder.from_words(flat_filtered)"
   ]
  },
  {
   "cell_type": "code",
   "execution_count": 34,
   "metadata": {},
   "outputs": [],
   "source": [
    "# computing bigram scores\n",
    "corpus_scored = bigram_finder.score_ngrams(bigram_measures.raw_freq)"
   ]
  },
  {
   "cell_type": "code",
   "execution_count": 35,
   "metadata": {},
   "outputs": [
    {
     "data": {
      "text/plain": [
       "[(('kikuyus', 'kalenjins'), 0.0010299721907508497),\n",
       " (('kill', 'luos'), 0.0006873487885214855),\n",
       " (('cyprian', 'nyakundi'), 0.0006558190275801329),\n",
       " (('warudi', 'kwao'), 0.000590657521634671),\n",
       " (('hate', 'speech'), 0.0005444138722540205),\n",
       " (('uhuru', 'kenyatta'), 0.0005233940316264522),\n",
       " (('masai', 'mara'), 0.0004960682388106133),\n",
       " (('hawa', 'wazungu'), 0.0004918642706850996),\n",
       " (('moses', 'kuria'), 0.0004813543503713155),\n",
       " (('maasai', 'mara'), 0.00043090673286515143),\n",
       " (('hate', 'kikuyus'), 0.00042249879661412405),\n",
       " (('raila', 'odinga'), 0.0004140908603630967),\n",
       " (('hate', 'luos'), 0.000397274987861042),\n",
       " (('kikuyus', 'luos'), 0.00035733729066866215),\n",
       " (('william', 'ruto'), 0.00035733729066866215),\n",
       " (('dont', 'know'), 0.0003152976094135254),\n",
       " (('kalenjins', 'kikuyus'), 0.00030478768909974124),\n",
       " (('luos', 'kikuyus'), 0.00028586983253492973),\n",
       " (('nasa', 'suppoers'), 0.0002732579281583887),\n",
       " (('supreme', 'cou'), 0.00026695197597011817),\n",
       " (('kill', 'us'), 0.0002606460237818477),\n",
       " (('one', 'day'), 0.00025854403971909085),\n",
       " (('free', 'fair'), 0.0002543400715935772),\n",
       " (('luos', 'luhyas'), 0.0002543400715935772),\n",
       " (('boy', 'child'), 0.0002522380875308203),\n",
       " (('gon', 'na'), 0.0002522380875308203),\n",
       " (('social', 'media'), 0.0002522380875308203),\n",
       " (('dont', 'want'), 0.00024172816721703617),\n",
       " (('watu', 'wa'), 0.00023752419909152248),\n",
       " (('uhuru', 'ruto'), 0.00022911626284049513),\n",
       " (('babu', 'owino'), 0.00022491229471498147),\n",
       " (('kikuyus', 'dont'), 0.00022491229471498147),\n",
       " (('must', 'go'), 0.00022491229471498147),\n",
       " (('luos', 'dont'), 0.00022281031065222464),\n",
       " (('dont', 'need'), 0.00021019840627568362),\n",
       " (('kenyan', 'men'), 0.0001975865018991426),\n",
       " (('hawa', 'watu'), 0.00019548451783638575),\n",
       " (('tell', 'us'), 0.00019548451783638575),\n",
       " (('hawa', 'wahindi'), 0.00019338253377362892),\n",
       " (('masai', 'ujiri'), 0.00018707658158535843),\n",
       " (('hawa', 'waluhya'), 0.00017866864533433108)]"
      ]
     },
     "execution_count": 35,
     "metadata": {},
     "output_type": "execute_result"
    }
   ],
   "source": [
    "# top 20 bigrams: Thy can be increased\n",
    "corpus_scored[:41]"
   ]
  },
  {
   "cell_type": "markdown",
   "metadata": {},
   "source": [
    "Is seems that most of these are nonsensical phrases, and may indicate that the data is still dirty. Next, we can use mutual information scores to show us the \"best\" bigrams."
   ]
  },
  {
   "cell_type": "markdown",
   "metadata": {},
   "source": [
    "## Calculating Mutual Information Scores\n",
    "\n",
    "Pointwise Mutual Information Score is a statistical measure from information theory that generally measures the mutual dependence between two words. In plain english, this measures how much information the bigram itself contains by computing the dependence between the two words in the bigram. \n"
   ]
  },
  {
   "cell_type": "code",
   "execution_count": 36,
   "metadata": {},
   "outputs": [],
   "source": [
    "# creating a finder for pmi & passing in torkenized corpus\n",
    "pmi_finder = BigramCollocationFinder.from_words(flat_filtered)"
   ]
  },
  {
   "cell_type": "code",
   "execution_count": 37,
   "metadata": {},
   "outputs": [],
   "source": [
    "# applying frequency filter that only examines bigrams that occur more than 5 times\n",
    "pmi_finder.apply_freq_filter(5)"
   ]
  },
  {
   "cell_type": "code",
   "execution_count": 38,
   "metadata": {},
   "outputs": [],
   "source": [
    "# using finder to calculate pmi scores\n",
    "pmi_scored = pmi_finder.score_ngrams(bigram_measures.pmi)"
   ]
  },
  {
   "cell_type": "code",
   "execution_count": 39,
   "metadata": {},
   "outputs": [
    {
     "data": {
      "text/plain": [
       "[(('liwe', 'liwalo'), 16.537888743609052),\n",
       " (('bettern', 'chero'), 16.27485433777526),\n",
       " (('cambridge', 'analytica'), 15.859816838496416),\n",
       " (('aga', 'khan'), 15.689891837054104),\n",
       " (('akishinda', 'nitachinja'), 15.689891837054104),\n",
       " (('aluta', 'continua'), 15.689891837054102),\n",
       " (('hujiskia', 'sukari'), 15.689891837054102),\n",
       " (('julie', 'gichuru'), 15.59678243266262),\n",
       " (('beth', 'mugo'), 15.537888743609052),\n",
       " (('bows', 'arrows'), 15.537888743609052),\n",
       " (('kc', 'coconut'), 15.537888743609052),\n",
       " (('mvua', 'inakupata'), 15.537888743609052),\n",
       " (('wazir', 'chacha'), 15.537888743609052),\n",
       " (('tharaka', 'nithi'), 15.467499415717654),\n",
       " (('katwa', 'kigen'), 15.385885650164003),\n",
       " (('davis', 'chirchir'), 15.27485433777526),\n",
       " (('opus', 'dei'), 15.274854337775258),\n",
       " (('bvr', 'kits'), 15.274854337775256),\n",
       " (('tit', 'tat'), 15.207740141916723),\n",
       " (('jigger', 'infested'), 15.181744933383776),\n",
       " (('chest', 'thumping'), 15.159377120355323),\n",
       " (('verbal', 'diarrhoea'), 15.159377120355323),\n",
       " (('dalai', 'lama'), 15.137350814025321),\n",
       " (('farouk', 'kibet'), 15.12285124433021),\n",
       " (('lucy', 'kambuni'), 15.052461916438812),\n",
       " (('rattle', 'snake'), 15.052461916438808),\n",
       " (('sk', 'macharia'), 15.052461916438808),\n",
       " (('unclaimed', 'assets'), 15.052461916438808),\n",
       " (('ulikua', 'unaingia'), 14.914958392688874),\n",
       " (('keriako', 'tobiko'), 14.859816838496414),\n",
       " (('helmets', 'whistles'), 14.789427510605016),\n",
       " (('uasin', 'gishu'), 14.772353997246075),\n",
       " (('tim', 'fargo'), 14.730533821551447),\n",
       " (('zamani', 'ulikua'), 14.72231331474648),\n",
       " (('garden', 'gethsemoney'), 14.689891837054102),\n",
       " (('sleepless', 'nights'), 14.66717176055402),\n",
       " (('jakoyo', 'midiwo'), 14.66341962569291),\n",
       " (('noordin', 'haji'), 14.628862403656541),\n",
       " (('sauti', 'sol'), 14.552388313304167),\n",
       " (('punda', 'amechoka'), 14.50931959141228),\n",
       " (('chips', 'funga'), 14.467499415717654)]"
      ]
     },
     "execution_count": 39,
     "metadata": {},
     "output_type": "execute_result"
    }
   ],
   "source": [
    "# first 30 elements in this list\n",
    "pmi_scored[:41]"
   ]
  },
  {
   "cell_type": "markdown",
   "metadata": {},
   "source": [
    "These are the top 30 bigrams, according to PMI score. Most of these are identifiable as Codeswitched slang terms. Liwe liwalo is a swahili slang, and cambridge analytica was a British political consulting firm that came to prominence through the Facebook–Cambridge Analytica data scandal.\n",
    "\n",
    "We can impliment bigrams into models using `ngram_range` during the TF-IDF vectorization stage. From there, we can start running some baseline models to see how they perform with this data."
   ]
  },
  {
   "cell_type": "code",
   "execution_count": 40,
   "metadata": {},
   "outputs": [],
   "source": [
    "bigrams_list = pmi_scored[:41]"
   ]
  },
  {
   "cell_type": "markdown",
   "metadata": {},
   "source": [
    "## Visualizing Bigram Frequency"
   ]
  },
  {
   "cell_type": "code",
   "execution_count": 41,
   "metadata": {},
   "outputs": [],
   "source": [
    "bigrams_series = (pd.Series(nltk.ngrams(flat_filtered, 2)).value_counts())[:20]"
   ]
  },
  {
   "cell_type": "code",
   "execution_count": 42,
   "metadata": {},
   "outputs": [
    {
     "data": {
      "text/plain": [
       "Text(0.5, 0, 'Number of Occurances')"
      ]
     },
     "execution_count": 42,
     "metadata": {},
     "output_type": "execute_result"
    },
    {
     "data": {
      "image/png": "[encoded data removed]",
      "text/plain": [
       "<Figure size 864x576 with 1 Axes>"
      ]
     },
     "metadata": {
      "needs_background": "light"
     },
     "output_type": "display_data"
    }
   ],
   "source": [
    "bigrams_series.sort_values().plot.barh(color=cm.viridis_r(np.linspace(.4,.8, 30)), width=.9, figsize=(12, 8))\n",
    "plt.title('20 Most Frequently Occurring Bigrams', fontsize=18)\n",
    "plt.ylabel('Bigram', fontsize=18)\n",
    "plt.xlabel('Number of Occurances', fontsize=18)"
   ]
  },
  {
   "cell_type": "markdown",
   "metadata": {},
   "source": [
    "## Stretch Goal: Visualizing Top Bigram Score"
   ]
  },
  {
   "cell_type": "markdown",
   "metadata": {},
   "source": [
    "### Converting list to DF we can censor the bigrams"
   ]
  },
  {
   "cell_type": "code",
   "execution_count": 43,
   "metadata": {},
   "outputs": [],
   "source": [
    "bigrams_df = pd.DataFrame(bigrams_list,columns=['bigram', 'pmi_score'])"
   ]
  },
  {
   "cell_type": "code",
   "execution_count": 44,
   "metadata": {},
   "outputs": [
    {
     "data": {
      "text/html": [
       "<div>\n",
       "<style scoped>\n",
       "    .dataframe tbody tr th:only-of-type {\n",
       "        vertical-align: middle;\n",
       "    }\n",
       "\n",
       "    .dataframe tbody tr th {\n",
       "        vertical-align: top;\n",
       "    }\n",
       "\n",
       "    .dataframe thead th {\n",
       "        text-align: right;\n",
       "    }\n",
       "</style>\n",
       "<table border=\"1\" class=\"dataframe\">\n",
       "  <thead>\n",
       "    <tr style=\"text-align: right;\">\n",
       "      <th></th>\n",
       "      <th>bigram</th>\n",
       "      <th>pmi_score</th>\n",
       "    </tr>\n",
       "  </thead>\n",
       "  <tbody>\n",
       "    <tr>\n",
       "      <th>0</th>\n",
       "      <td>(liwe, liwalo)</td>\n",
       "      <td>16.537889</td>\n",
       "    </tr>\n",
       "    <tr>\n",
       "      <th>1</th>\n",
       "      <td>(bettern, chero)</td>\n",
       "      <td>16.274854</td>\n",
       "    </tr>\n",
       "    <tr>\n",
       "      <th>2</th>\n",
       "      <td>(cambridge, analytica)</td>\n",
       "      <td>15.859817</td>\n",
       "    </tr>\n",
       "    <tr>\n",
       "      <th>3</th>\n",
       "      <td>(aga, khan)</td>\n",
       "      <td>15.689892</td>\n",
       "    </tr>\n",
       "    <tr>\n",
       "      <th>4</th>\n",
       "      <td>(akishinda, nitachinja)</td>\n",
       "      <td>15.689892</td>\n",
       "    </tr>\n",
       "  </tbody>\n",
       "</table>\n",
       "</div>"
      ],
      "text/plain": [
       "                    bigram  pmi_score\n",
       "0           (liwe, liwalo)  16.537889\n",
       "1         (bettern, chero)  16.274854\n",
       "2   (cambridge, analytica)  15.859817\n",
       "3              (aga, khan)  15.689892\n",
       "4  (akishinda, nitachinja)  15.689892"
      ]
     },
     "execution_count": 44,
     "metadata": {},
     "output_type": "execute_result"
    }
   ],
   "source": [
    "bigrams_df.head()"
   ]
  }
 ],
 "metadata": {
  "kernelspec": {
   "display_name": "Python 3.9.7 ('base')",
   "language": "python",
   "name": "python3"
  },
  "language_info": {
   "codemirror_mode": {
    "name": "ipython",
    "version": 3
   },
   "file_extension": ".py",
   "mimetype": "text/x-python",
   "name": "python",
   "nbconvert_exporter": "python",
   "pygments_lexer": "ipython3",
   "version": "3.9.7"
  },
  "orig_nbformat": 4,
  "vscode": {
   "interpreter": {
    "hash": "df5a47594a4c7fa77718041c239adbe925734d95d528854ea959dd8eef4ca91e"
   }
  }
 },
 "nbformat": 4,
 "nbformat_minor": 2
}

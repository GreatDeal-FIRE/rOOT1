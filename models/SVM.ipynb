{
 "cells": [
  {
   "cell_type": "markdown",
   "metadata": {},
   "source": [
    "# Support Vector Machine (SVM) Modeling\n",
    "\n",
    "In this notebook, we iterate through an SVM baseline, trying different class imbalance remedy methods. We also grid search to try and optomize the baseline's hyperparameters.\n",
    "\n",
    "The idea behind SVMs is that you perform classification by finding the seperation line or (in higher dimensions) 'hyperplane' that maximizes the distance between two classes."
   ]
  },
  {
   "cell_type": "code",
   "execution_count": 4,
   "metadata": {},
   "outputs": [],
   "source": [
    "import pandas as pd\n",
    "import matplotlib.pyplot as plt\n",
    "from matplotlib import cm\n",
    "import seaborn as sns; sns.set()\n",
    "%matplotlib inline\n",
    "import nltk\n",
    "from sklearn.feature_extraction import text \n",
    "from nltk.stem import WordNetLemmatizer \n",
    "from sklearn.feature_extraction.text import CountVectorizer, TfidfVectorizer, TfidfTransformer\n",
    "from nltk.probability import FreqDist\n",
    "from nltk.corpus import stopwords\n",
    "from nltk.stem import PorterStemmer\n",
    "from sklearn import metrics, model_selection, svm\n",
    "from sklearn.naive_bayes import MultinomialNB\n",
    "from sklearn.svm import LinearSVC\n",
    "from sklearn.model_selection import train_test_split, GridSearchCV\n",
    "from sklearn.ensemble import RandomForestClassifier\n",
    "import sklearn.metrics as metrics\n",
    "from sklearn.metrics import accuracy_score, precision_score, recall_score, f1_score, confusion_matrix, plot_confusion_matrix, roc_curve, auc, classification_report\n",
    "import pickle"
   ]
  },
  {
   "cell_type": "markdown",
   "metadata": {},
   "source": [
    "## Importing X and y from `nlp_preprocessing.ipynb`"
   ]
  },
  {
   "cell_type": "code",
   "execution_count": 28,
   "metadata": {},
   "outputs": [],
   "source": [
    "X_lem = pickle.load(open(r'C:\\Users\\Ricky\\Desktop\\4.2 FINAL SEMESTER\\PROJECT II  Computer systems Project\\rOOT\\Preprocessing\\pickle\\X_lem.pkl', 'rb'))\n",
    "y_lem = pd.read_pickle(r'C:\\Users\\Ricky\\Desktop\\4.2 FINAL SEMESTER\\PROJECT II  Computer systems Project\\rOOT\\Preprocessing\\pickle\\y_lem.pkl')"
   ]
  },
  {
   "cell_type": "code",
   "execution_count": 29,
   "metadata": {},
   "outputs": [],
   "source": [
    "# setting up stop words\n",
    "stop_words = set(stopwords.words('english'))"
   ]
  },
  {
   "cell_type": "markdown",
   "metadata": {},
   "source": [
    "## Train-Test Split & Vectorize"
   ]
  },
  {
   "cell_type": "code",
   "execution_count": 27,
   "metadata": {},
   "outputs": [],
   "source": [
    "X_train, X_test, y_train, y_test = train_test_split(X_lem, y_lem, test_size=0.20, random_state=15)\n",
    "\n",
    "# using tf_idf vectorizor with bigrams\n",
    "tfidf = TfidfVectorizer(stop_words= stop_words, ngram_range=(1,2))"
   ]
  },
  {
   "cell_type": "code",
   "execution_count": 26,
   "metadata": {},
   "outputs": [],
   "source": [
    "# sparse matrix format with 265K stored elements\n",
    "tfidf_data_train = tfidf.fit_transform(X_train)\n",
    "tfidf_data_test = tfidf.transform(X_test)"
   ]
  },
  {
   "cell_type": "markdown",
   "metadata": {},
   "source": [
    "## SVM Baseline\n",
    "\n",
    "SVM Hyperparameters:\n",
    "- `C` is the regularization parameter, `1.0` is the default.\n",
    "- `kernel` specifies the kernal type to be used in the algorithm, default is `rbf`. These are different ways of drawing non-linear boundaries around classes.\n",
    "- `degree` is the degree of the polynomial kernal functions (`poly`), ignored by all other kernals.\n",
    "- `gamma` is the kernal coefficient for `rbf`, `poly` and `sigmoid`, default is `scale`.\n",
    "- 'class_weight' default 1. If balanced, it uses the values of y to automatically adjust weights inversely proportional to class frequencies in the output data as `n_samples / (n_classes * np.bincount(y))`.\n"
   ]
  },
  {
   "cell_type": "code",
   "execution_count": 25,
   "metadata": {},
   "outputs": [],
   "source": [
    "SVM_baseline = svm.SVC(C=1.0, kernel='linear', degree=3, gamma='auto', class_weight='balanced', random_state=20)"
   ]
  },
  {
   "cell_type": "code",
   "execution_count": 15,
   "metadata": {},
   "outputs": [
    {
     "name": "stdout",
     "output_type": "stream",
     "text": [
      "Wall time: 29min 4s\n"
     ]
    }
   ],
   "source": [
    "%%time \n",
    "# this cell takes about 53 seconds to run\n",
    "# fit the training dataset on the classifier\n",
    "SVM_baseline.fit(tfidf_data_train, y_train)\n",
    "# predict the labels on validation dataset\n",
    "SVM_test_preds = SVM_baseline.predict(tfidf_data_test)\n",
    "#this cell took 29min 2s"
   ]
  },
  {
   "cell_type": "code",
   "execution_count": 24,
   "metadata": {},
   "outputs": [],
   "source": [
    "baseline_precision = precision_score(y_test, SVM_test_preds)\n",
    "baseline_recall = recall_score(y_test, SVM_test_preds)\n",
    "baseline_f1_score = f1_score(y_test, SVM_test_preds)\n",
    "baseline_weighted_f1_score = f1_score(y_test, SVM_test_preds, average='weighted')"
   ]
  },
  {
   "cell_type": "code",
   "execution_count": 23,
   "metadata": {},
   "outputs": [
    {
     "name": "stdout",
     "output_type": "stream",
     "text": [
      "Testing Metrics for SVM Baseline with Lemmatization & TF-IDF Vectorization\n",
      "Precision: 0.3176\n",
      "Recall: 0.3378\n",
      "F1 Score: 0.3274\n",
      "Weighted F1 Score: 0.9076\n"
     ]
    }
   ],
   "source": [
    "# printing evaluation metrics up to 4th decimal place\n",
    "print('Testing Metrics for SVM Baseline with Lemmatization & TF-IDF Vectorization')\n",
    "print('Precision: {:.4}'.format(baseline_precision))\n",
    "print('Recall: {:.4}'.format(baseline_recall))\n",
    "print('F1 Score: {:.4}'.format(baseline_f1_score))\n",
    "print('Weighted F1 Score: {:.4}'.format(baseline_weighted_f1_score))"
   ]
  },
  {
   "cell_type": "code",
   "execution_count": 22,
   "metadata": {},
   "outputs": [],
   "source": [
    "# creating dictionary with all metrics\n",
    "metric_dict = {}\n",
    "metric_dict['Baseline SVM'] = {'precision': baseline_precision, 'recall': baseline_recall, 'f1_score': baseline_f1_score, 'weighted_f1': baseline_weighted_f1_score}"
   ]
  },
  {
   "cell_type": "code",
   "execution_count": 19,
   "metadata": {},
   "outputs": [
    {
     "name": "stderr",
     "output_type": "stream",
     "text": [
      "c:\\Users\\Ricky\\anaconda3\\lib\\site-packages\\sklearn\\utils\\deprecation.py:87: FutureWarning: Function plot_confusion_matrix is deprecated; Function `plot_confusion_matrix` is deprecated in 1.0 and will be removed in 1.2. Use one of the class methods: ConfusionMatrixDisplay.from_predictions or ConfusionMatrixDisplay.from_estimator.\n",
      "  warnings.warn(msg, category=FutureWarning)\n"
     ]
    },
    {
     "data": {
      "text/plain": [
       "<sklearn.metrics._plot.confusion_matrix.ConfusionMatrixDisplay at 0x1c36c2bdca0>"
      ]
     },
     "execution_count": 19,
     "metadata": {},
     "output_type": "execute_result"
    },
    {
     "data": {
      "image/png": "[encoded data removed]",
      "text/plain": [
       "<Figure size 432x288 with 2 Axes>"
      ]
     },
     "metadata": {
      "needs_background": "light"
     },
     "output_type": "display_data"
    }
   ],
   "source": [
    "plot_confusion_matrix(SVM_baseline, tfidf_data_test, y_test)"
   ]
  },
  {
   "cell_type": "markdown",
   "metadata": {},
   "source": [
    "## Baseline with SMOTE\n",
    "Used to over-sample the minority class (hate speech)."
   ]
  },
  {
   "cell_type": "code",
   "execution_count": 36,
   "metadata": {},
   "outputs": [],
   "source": [
    "from imblearn.over_sampling import SMOTE\n",
    "#import SMOTE sklearn.base\n",
    "from sklearn.base import clone\n",
    "sm = SMOTE(random_state=35)\n",
    "smote_X_train, smote_y_train = sm.fit_resample(tfidf_data_train, y_train)"
   ]
  },
  {
   "cell_type": "code",
   "execution_count": 37,
   "metadata": {},
   "outputs": [],
   "source": [
    "smote_SVM = svm.SVC(C=1.0, kernel='linear', degree=3, gamma='auto', random_state=15)"
   ]
  },
  {
   "cell_type": "code",
   "execution_count": 38,
   "metadata": {},
   "outputs": [
    {
     "name": "stdout",
     "output_type": "stream",
     "text": [
      "Wall time: 1h 50min 4s\n"
     ]
    }
   ],
   "source": [
    "%%time\n",
    "# this cell takes about 4 minutes to run\n",
    "smote_SVM.fit(smote_X_train, smote_y_train)\n",
    "smote_SVM_test_preds = smote_SVM.predict(tfidf_data_test)\n",
    "#this cell took 1h50min"
   ]
  },
  {
   "cell_type": "code",
   "execution_count": 39,
   "metadata": {},
   "outputs": [],
   "source": [
    "smote_precision = precision_score(y_test, smote_SVM_test_preds)\n",
    "smote_recall = recall_score(y_test, smote_SVM_test_preds)\n",
    "smote_f1_score = f1_score(y_test, smote_SVM_test_preds)\n",
    "smote_weighted_f1_score = f1_score(y_test, smote_SVM_test_preds, average='weighted')\n"
   ]
  },
  {
   "cell_type": "code",
   "execution_count": 40,
   "metadata": {},
   "outputs": [
    {
     "name": "stdout",
     "output_type": "stream",
     "text": [
      "Testing Metrics for Oversampled SVM Baseline with Lemmatization\n",
      "Precision: 0.3516\n",
      "Recall: 0.2655\n",
      "F1 Score: 0.3025\n",
      "Weighted F1 Score: 0.9119\n"
     ]
    }
   ],
   "source": [
    "# printing evaluation metrics up to 4th decimal place\n",
    "print('Testing Metrics for Oversampled SVM Baseline with Lemmatization')\n",
    "print('Precision: {:.4}'.format(smote_precision))\n",
    "print('Recall: {:.4}'.format(smote_recall))\n",
    "print('F1 Score: {:.4}'.format(smote_f1_score))\n",
    "print('Weighted F1 Score: {:.4}'.format(smote_weighted_f1_score))"
   ]
  },
  {
   "cell_type": "markdown",
   "metadata": {},
   "source": [
    "Looks like SMOTE actually decreased the F1, which also happened with Logistic Regression."
   ]
  },
  {
   "cell_type": "code",
   "execution_count": 41,
   "metadata": {},
   "outputs": [],
   "source": [
    "# adding these metrics to evaluation metric dict\n",
    "metric_dict['Baseline SVM Oversampled with SMOTE'] = {'precision': smote_precision, 'recall': smote_recall, 'f1_score': smote_f1_score, 'weighted_f1': smote_weighted_f1_score}"
   ]
  },
  {
   "cell_type": "markdown",
   "metadata": {},
   "source": [
    "## Baseline with Tomek Links\n",
    "Used to under-sample the majority class (not hate speech)."
   ]
  },
  {
   "cell_type": "code",
   "execution_count": 42,
   "metadata": {},
   "outputs": [
    {
     "name": "stdout",
     "output_type": "stream",
     "text": [
      "Resampled dataset shape Counter({0: 37466, 1: 2564})\n"
     ]
    }
   ],
   "source": [
    "from collections import Counter\n",
    "from imblearn.under_sampling import TomekLinks # doctest: +NORMALIZE_WHITESPACE\n",
    "\n",
    "tl = TomekLinks()\n",
    "tomek_X_train, tomek_y_train = tl.fit_resample(tfidf_data_train, y_train)\n",
    "print('Resampled dataset shape %s' % Counter(tomek_y_train))"
   ]
  },
  {
   "cell_type": "markdown",
   "metadata": {},
   "source": [
    "Only removed 48 values from the majority class."
   ]
  },
  {
   "cell_type": "code",
   "execution_count": 43,
   "metadata": {},
   "outputs": [],
   "source": [
    "tomek_SVM = svm.SVC(C=1.0, kernel='linear', degree=3, gamma='auto', random_state=15)"
   ]
  },
  {
   "cell_type": "code",
   "execution_count": 44,
   "metadata": {},
   "outputs": [
    {
     "name": "stdout",
     "output_type": "stream",
     "text": [
      "Wall time: 27min 59s\n"
     ]
    }
   ],
   "source": [
    "%%time\n",
    "# this cell takes 42 seconds to run\n",
    "tomek_SVM.fit(tomek_X_train, tomek_y_train)\n",
    "tomek_logreg_test_preds = tomek_SVM.predict(tfidf_data_test)\n",
    "#This cell took 27min59s"
   ]
  },
  {
   "cell_type": "code",
   "execution_count": 45,
   "metadata": {},
   "outputs": [],
   "source": [
    "tomek_precision = precision_score(y_test, tomek_logreg_test_preds)\n",
    "tomek_recall = recall_score(y_test, tomek_logreg_test_preds)\n",
    "tomek_f1_score = f1_score(y_test, tomek_logreg_test_preds)\n",
    "tomek_weighted_f1_score = f1_score(y_test, tomek_logreg_test_preds, average='weighted')"
   ]
  },
  {
   "cell_type": "code",
   "execution_count": 46,
   "metadata": {},
   "outputs": [
    {
     "name": "stdout",
     "output_type": "stream",
     "text": [
      "Testing Metrics for Undersampled SVM Baseline with Lemmatization\n",
      "Precision: 0.5775\n",
      "Recall: 0.06047\n",
      "F1 Score: 0.1095\n",
      "F1 Score: 0.9076\n"
     ]
    }
   ],
   "source": [
    "# printing evaluation metrics up to 4th decimal place\n",
    "print('Testing Metrics for Undersampled SVM Baseline with Lemmatization')\n",
    "print('Precision: {:.4}'.format(tomek_precision))\n",
    "print('Recall: {:.4}'.format(tomek_recall))\n",
    "print('F1 Score: {:.4}'.format(tomek_f1_score))\n",
    "print('F1 Score: {:.4}'.format(tomek_weighted_f1_score))"
   ]
  },
  {
   "cell_type": "code",
   "execution_count": 47,
   "metadata": {},
   "outputs": [],
   "source": [
    "# adding these metrics to evaluation metric dict\n",
    "metric_dict['Baseline SVM Undersampled with Tomek Links'] = {'precision': tomek_precision, 'recall': tomek_recall, 'f1_score': tomek_f1_score, 'weighted_f1': tomek_weighted_f1_score}"
   ]
  },
  {
   "cell_type": "markdown",
   "metadata": {},
   "source": [
    "## Metrics for All Baselines"
   ]
  },
  {
   "cell_type": "code",
   "execution_count": 48,
   "metadata": {},
   "outputs": [
    {
     "data": {
      "text/html": [
       "<div>\n",
       "<style scoped>\n",
       "    .dataframe tbody tr th:only-of-type {\n",
       "        vertical-align: middle;\n",
       "    }\n",
       "\n",
       "    .dataframe tbody tr th {\n",
       "        vertical-align: top;\n",
       "    }\n",
       "\n",
       "    .dataframe thead th {\n",
       "        text-align: right;\n",
       "    }\n",
       "</style>\n",
       "<table border=\"1\" class=\"dataframe\">\n",
       "  <thead>\n",
       "    <tr style=\"text-align: right;\">\n",
       "      <th></th>\n",
       "      <th>precision</th>\n",
       "      <th>recall</th>\n",
       "      <th>f1_score</th>\n",
       "      <th>weighted_f1</th>\n",
       "    </tr>\n",
       "  </thead>\n",
       "  <tbody>\n",
       "    <tr>\n",
       "      <th>Baseline SVM</th>\n",
       "      <td>0.317614</td>\n",
       "      <td>0.337758</td>\n",
       "      <td>0.327377</td>\n",
       "      <td>0.907561</td>\n",
       "    </tr>\n",
       "    <tr>\n",
       "      <th>Baseline SVM Oversampled with SMOTE</th>\n",
       "      <td>0.351562</td>\n",
       "      <td>0.265487</td>\n",
       "      <td>0.302521</td>\n",
       "      <td>0.911884</td>\n",
       "    </tr>\n",
       "    <tr>\n",
       "      <th>Baseline SVM Undersampled with Tomek Links</th>\n",
       "      <td>0.577465</td>\n",
       "      <td>0.060472</td>\n",
       "      <td>0.109479</td>\n",
       "      <td>0.907644</td>\n",
       "    </tr>\n",
       "  </tbody>\n",
       "</table>\n",
       "</div>"
      ],
      "text/plain": [
       "                                            precision    recall  f1_score  \\\n",
       "Baseline SVM                                 0.317614  0.337758  0.327377   \n",
       "Baseline SVM Oversampled with SMOTE          0.351562  0.265487  0.302521   \n",
       "Baseline SVM Undersampled with Tomek Links   0.577465  0.060472  0.109479   \n",
       "\n",
       "                                            weighted_f1  \n",
       "Baseline SVM                                   0.907561  \n",
       "Baseline SVM Oversampled with SMOTE            0.911884  \n",
       "Baseline SVM Undersampled with Tomek Links     0.907644  "
      ]
     },
     "execution_count": 48,
     "metadata": {},
     "output_type": "execute_result"
    }
   ],
   "source": [
    "pd.DataFrame.from_dict(metric_dict, orient='index')"
   ]
  },
  {
   "cell_type": "markdown",
   "metadata": {},
   "source": [
    "- The baseline SVM with `class_weight=balanced` has the highest unweighted F1\n",
    "- The undersampled baseline has a lower raw F1, but higher weighted F1.\n",
    "\n",
    "We can take a look at each model's classification report to get a better idea about what's happening."
   ]
  },
  {
   "cell_type": "code",
   "execution_count": 49,
   "metadata": {},
   "outputs": [
    {
     "name": "stdout",
     "output_type": "stream",
     "text": [
      "              precision    recall  f1-score   support\n",
      "\n",
      "     class 0       0.95      0.95      0.95      9357\n",
      "     class 1       0.32      0.34      0.33       678\n",
      "\n",
      "    accuracy                           0.91     10035\n",
      "   macro avg       0.63      0.64      0.64     10035\n",
      "weighted avg       0.91      0.91      0.91     10035\n",
      "\n",
      "              precision    recall  f1-score   support\n",
      "\n",
      "     class 0       0.94      1.00      0.97      9357\n",
      "     class 1       0.58      0.06      0.11       678\n",
      "\n",
      "    accuracy                           0.93     10035\n",
      "   macro avg       0.76      0.53      0.54     10035\n",
      "weighted avg       0.91      0.93      0.91     10035\n",
      "\n"
     ]
    }
   ],
   "source": [
    "from sklearn.metrics import classification_report\n",
    "target_names = ['class 0', 'class 1']\n",
    "# class_weight='balanced' Baseline report\n",
    "print(classification_report(y_test, SVM_test_preds, target_names=target_names))\n",
    "# Undersampled Baseline report\n",
    "print(classification_report(y_test, tomek_logreg_test_preds, target_names=target_names))"
   ]
  },
  {
   "cell_type": "markdown",
   "metadata": {},
   "source": [
    "There are some differances. But most noteably, the baseline with `class_weight=balanced` predicts the hate speech (1) class much better than the other model. \n",
    "\n",
    "Therefore, let's stick with that one and grid search to tune its hyperparameters."
   ]
  },
  {
   "cell_type": "markdown",
   "metadata": {},
   "source": [
    "## Grid Search\n",
    "\n",
    "The `sklearn` library provides an easy way to tune model parameters through an exhuastive search using `GridSearchCV`. It combines K-Fold Cross Validation with a grid search of hyperparameters.\n",
    "\n",
    "A full list of an SVC model's hyperparameters can be found in the documentation [here](https://scikit-learn.org/stable/modules/generated/sklearn.svm.SVC.html).\n",
    "\n",
    "With this grid search, I aimed to improve the C and Gamma, and seeing if any other kernels outperform the Linear kernel.\n",
    "\n",
    "- More information about selecting the right C and gamma can be found in [this](https://www.quora.com/What-are-C-and-gamma-with-regards-to-a-support-vector-machine) Quora post.\n",
    "- More information about selecting the right SVM Kernel can be found in [this](https://towardsdatascience.com/svm-and-kernel-svm-fed02bef1200) TowardsDataScience article.\n",
    "\n",
    "The following hyperparamter dictionary was used and the grid search took about **48 minutes** to run. \n",
    "\n",
    "**Grid Searched Parameters:**\n",
    "- 'C': [1, 10, 100]\n",
    "- 'gamma': [0.1, 0.01, 0.001]\n",
    "- 'kernel': ['rbf', 'sigmoid']\n",
    "\n",
    "For the sake of reproducibility, the tuned model is below. The full code can be found in the `SVM.ipynb` notebook."
   ]
  },
  {
   "cell_type": "code",
   "execution_count": 50,
   "metadata": {},
   "outputs": [],
   "source": [
    "# creating the model\n",
    "baseline_model = svm.SVC(degree=3, class_weight='balanced', random_state=20)"
   ]
  },
  {
   "cell_type": "code",
   "execution_count": 51,
   "metadata": {},
   "outputs": [],
   "source": [
    "# creating param_dict\n",
    "param_dict={'C': [1, 10, 100],  \n",
    "              'gamma': [0.1, 0.01, 0.001], \n",
    "              'kernel': ['rbf', 'sigmoid']}"
   ]
  },
  {
   "cell_type": "code",
   "execution_count": 52,
   "metadata": {},
   "outputs": [],
   "source": [
    "# instantiate Grid Search CV with F1 metric\n",
    "grid_baseline = GridSearchCV(baseline_model, param_dict, cv=5, scoring='f1', verbose=3)"
   ]
  },
  {
   "cell_type": "code",
   "execution_count": 53,
   "metadata": {},
   "outputs": [
    {
     "name": "stdout",
     "output_type": "stream",
     "text": [
      "Fitting 5 folds for each of 18 candidates, totalling 90 fits\n",
      "[CV 1/5] END ........C=1, gamma=0.1, kernel=rbf;, score=0.312 total time=21.0min\n",
      "[CV 2/5] END ........C=1, gamma=0.1, kernel=rbf;, score=0.300 total time=20.2min\n",
      "[CV 3/5] END ........C=1, gamma=0.1, kernel=rbf;, score=0.306 total time=19.3min\n",
      "[CV 4/5] END ........C=1, gamma=0.1, kernel=rbf;, score=0.331 total time=19.3min\n",
      "[CV 5/5] END ........C=1, gamma=0.1, kernel=rbf;, score=0.306 total time=19.0min\n",
      "[CV 1/5] END ....C=1, gamma=0.1, kernel=sigmoid;, score=0.310 total time=17.2min\n",
      "[CV 2/5] END ....C=1, gamma=0.1, kernel=sigmoid;, score=0.299 total time=17.5min\n",
      "[CV 3/5] END ....C=1, gamma=0.1, kernel=sigmoid;, score=0.300 total time=17.9min\n",
      "[CV 4/5] END ....C=1, gamma=0.1, kernel=sigmoid;, score=0.322 total time=16.6min\n",
      "[CV 5/5] END ....C=1, gamma=0.1, kernel=sigmoid;, score=0.314 total time=17.6min\n",
      "[CV 1/5] END .......C=1, gamma=0.01, kernel=rbf;, score=0.268 total time=18.5min\n",
      "[CV 2/5] END .......C=1, gamma=0.01, kernel=rbf;, score=0.253 total time=17.7min\n",
      "[CV 3/5] END .......C=1, gamma=0.01, kernel=rbf;, score=0.267 total time=16.0min\n",
      "[CV 4/5] END .......C=1, gamma=0.01, kernel=rbf;, score=0.272 total time=15.6min\n",
      "[CV 5/5] END .......C=1, gamma=0.01, kernel=rbf;, score=0.252 total time=15.4min\n",
      "[CV 1/5] END ...C=1, gamma=0.01, kernel=sigmoid;, score=0.149 total time=15.7min\n",
      "[CV 2/5] END ...C=1, gamma=0.01, kernel=sigmoid;, score=0.141 total time=16.2min\n",
      "[CV 3/5] END ...C=1, gamma=0.01, kernel=sigmoid;, score=0.134 total time=16.2min\n",
      "[CV 4/5] END ...C=1, gamma=0.01, kernel=sigmoid;, score=0.147 total time=16.9min\n",
      "[CV 5/5] END ...C=1, gamma=0.01, kernel=sigmoid;, score=0.124 total time=16.6min\n",
      "[CV 1/5] END ......C=1, gamma=0.001, kernel=rbf;, score=0.000 total time=18.9min\n",
      "[CV 2/5] END ......C=1, gamma=0.001, kernel=rbf;, score=0.120 total time=27.1min\n",
      "[CV 3/5] END ......C=1, gamma=0.001, kernel=rbf;, score=0.120 total time=17.2min\n",
      "[CV 4/5] END ......C=1, gamma=0.001, kernel=rbf;, score=0.120 total time=16.0min\n",
      "[CV 5/5] END ......C=1, gamma=0.001, kernel=rbf;, score=0.120 total time=15.3min\n",
      "[CV 1/5] END ..C=1, gamma=0.001, kernel=sigmoid;, score=0.000 total time=15.0min\n",
      "[CV 2/5] END ..C=1, gamma=0.001, kernel=sigmoid;, score=0.120 total time=14.9min\n",
      "[CV 3/5] END ..C=1, gamma=0.001, kernel=sigmoid;, score=0.120 total time=15.1min\n",
      "[CV 4/5] END ..C=1, gamma=0.001, kernel=sigmoid;, score=0.120 total time=15.2min\n",
      "[CV 5/5] END ..C=1, gamma=0.001, kernel=sigmoid;, score=0.120 total time=15.9min\n",
      "[CV 1/5] END .......C=10, gamma=0.1, kernel=rbf;, score=0.161 total time=23.8min\n",
      "[CV 2/5] END .......C=10, gamma=0.1, kernel=rbf;, score=0.143 total time=24.9min\n",
      "[CV 3/5] END .......C=10, gamma=0.1, kernel=rbf;, score=0.198 total time=25.9min\n",
      "[CV 4/5] END .......C=10, gamma=0.1, kernel=rbf;, score=0.165 total time=23.9min\n",
      "[CV 5/5] END .......C=10, gamma=0.1, kernel=rbf;, score=0.168 total time=24.5min\n",
      "[CV 1/5] END ...C=10, gamma=0.1, kernel=sigmoid;, score=0.225 total time=19.4min\n",
      "[CV 2/5] END ...C=10, gamma=0.1, kernel=sigmoid;, score=0.195 total time=19.7min\n",
      "[CV 3/5] END ...C=10, gamma=0.1, kernel=sigmoid;, score=0.250 total time=19.2min\n",
      "[CV 4/5] END ...C=10, gamma=0.1, kernel=sigmoid;, score=0.214 total time=19.7min\n",
      "[CV 5/5] END ...C=10, gamma=0.1, kernel=sigmoid;, score=0.216 total time=19.6min\n",
      "[CV 1/5] END ......C=10, gamma=0.01, kernel=rbf;, score=0.310 total time=17.0min\n",
      "[CV 2/5] END ......C=10, gamma=0.01, kernel=rbf;, score=0.303 total time=17.2min\n",
      "[CV 3/5] END ......C=10, gamma=0.01, kernel=rbf;, score=0.306 total time=18.0min\n",
      "[CV 4/5] END ......C=10, gamma=0.01, kernel=rbf;, score=0.330 total time=16.6min\n",
      "[CV 5/5] END ......C=10, gamma=0.01, kernel=rbf;, score=0.307 total time=16.7min\n",
      "[CV 1/5] END ..C=10, gamma=0.01, kernel=sigmoid;, score=0.309 total time=15.5min\n",
      "[CV 2/5] END ..C=10, gamma=0.01, kernel=sigmoid;, score=0.299 total time=15.4min\n",
      "[CV 3/5] END ..C=10, gamma=0.01, kernel=sigmoid;, score=0.301 total time=16.6min\n",
      "[CV 4/5] END ..C=10, gamma=0.01, kernel=sigmoid;, score=0.322 total time=15.4min\n",
      "[CV 5/5] END ..C=10, gamma=0.01, kernel=sigmoid;, score=0.315 total time=15.2min\n",
      "[CV 1/5] END .....C=10, gamma=0.001, kernel=rbf;, score=0.266 total time=16.3min\n",
      "[CV 2/5] END .....C=10, gamma=0.001, kernel=rbf;, score=0.258 total time=17.2min\n",
      "[CV 3/5] END .....C=10, gamma=0.001, kernel=rbf;, score=0.266 total time=17.2min\n",
      "[CV 4/5] END .....C=10, gamma=0.001, kernel=rbf;, score=0.274 total time=16.9min\n",
      "[CV 5/5] END .....C=10, gamma=0.001, kernel=rbf;, score=0.253 total time=16.6min\n",
      "[CV 1/5] END .C=10, gamma=0.001, kernel=sigmoid;, score=0.149 total time=15.7min\n",
      "[CV 2/5] END .C=10, gamma=0.001, kernel=sigmoid;, score=0.141 total time=15.1min\n",
      "[CV 3/5] END .C=10, gamma=0.001, kernel=sigmoid;, score=0.134 total time=15.1min\n",
      "[CV 4/5] END .C=10, gamma=0.001, kernel=sigmoid;, score=0.147 total time=14.9min\n",
      "[CV 5/5] END .C=10, gamma=0.001, kernel=sigmoid;, score=0.124 total time=14.9min\n",
      "[CV 1/5] END ......C=100, gamma=0.1, kernel=rbf;, score=0.160 total time=23.6min\n",
      "[CV 2/5] END ......C=100, gamma=0.1, kernel=rbf;, score=0.125 total time=23.8min\n",
      "[CV 3/5] END ......C=100, gamma=0.1, kernel=rbf;, score=0.187 total time=23.5min\n",
      "[CV 4/5] END ......C=100, gamma=0.1, kernel=rbf;, score=0.154 total time=24.4min\n",
      "[CV 5/5] END ......C=100, gamma=0.1, kernel=rbf;, score=0.137 total time=24.5min\n",
      "[CV 1/5] END ..C=100, gamma=0.1, kernel=sigmoid;, score=0.155 total time=23.9min\n",
      "[CV 2/5] END ..C=100, gamma=0.1, kernel=sigmoid;, score=0.128 total time=24.4min\n",
      "[CV 3/5] END ..C=100, gamma=0.1, kernel=sigmoid;, score=0.184 total time=24.0min\n",
      "[CV 4/5] END ..C=100, gamma=0.1, kernel=sigmoid;, score=0.159 total time=25.2min\n",
      "[CV 5/5] END ..C=100, gamma=0.1, kernel=sigmoid;, score=0.144 total time=26.4min\n",
      "[CV 1/5] END .....C=100, gamma=0.01, kernel=rbf;, score=0.173 total time=22.9min\n",
      "[CV 2/5] END .....C=100, gamma=0.01, kernel=rbf;, score=0.145 total time=22.7min\n",
      "[CV 3/5] END .....C=100, gamma=0.01, kernel=rbf;, score=0.199 total time=22.6min\n",
      "[CV 4/5] END .....C=100, gamma=0.01, kernel=rbf;, score=0.182 total time=23.3min\n",
      "[CV 5/5] END .....C=100, gamma=0.01, kernel=rbf;, score=0.178 total time=23.1min\n",
      "[CV 1/5] END .C=100, gamma=0.01, kernel=sigmoid;, score=0.221 total time=19.5min\n",
      "[CV 2/5] END .C=100, gamma=0.01, kernel=sigmoid;, score=0.190 total time=19.4min\n",
      "[CV 3/5] END .C=100, gamma=0.01, kernel=sigmoid;, score=0.248 total time=19.1min\n",
      "[CV 4/5] END .C=100, gamma=0.01, kernel=sigmoid;, score=0.214 total time=19.8min\n",
      "[CV 5/5] END .C=100, gamma=0.01, kernel=sigmoid;, score=0.214 total time=19.5min\n",
      "[CV 1/5] END ....C=100, gamma=0.001, kernel=rbf;, score=0.312 total time=16.6min\n",
      "[CV 2/5] END ....C=100, gamma=0.001, kernel=rbf;, score=0.304 total time=16.8min\n",
      "[CV 3/5] END ....C=100, gamma=0.001, kernel=rbf;, score=0.307 total time=19.8min\n",
      "[CV 4/5] END ....C=100, gamma=0.001, kernel=rbf;, score=0.330 total time=18.5min\n",
      "[CV 5/5] END ....C=100, gamma=0.001, kernel=rbf;, score=0.305 total time=18.3min\n",
      "[CV 1/5] END C=100, gamma=0.001, kernel=sigmoid;, score=0.309 total time=16.3min\n",
      "[CV 2/5] END C=100, gamma=0.001, kernel=sigmoid;, score=0.299 total time=15.3min\n",
      "[CV 3/5] END C=100, gamma=0.001, kernel=sigmoid;, score=0.301 total time=17.0min\n",
      "[CV 4/5] END C=100, gamma=0.001, kernel=sigmoid;, score=0.323 total time=16.9min\n",
      "[CV 5/5] END C=100, gamma=0.001, kernel=sigmoid;, score=0.315 total time=17.8min\n",
      "Wall time: 1d 4h 39min 53s\n"
     ]
    },
    {
     "data": {
      "text/html": [
       "<style>#sk-container-id-1 {color: black;background-color: white;}#sk-container-id-1 pre{padding: 0;}#sk-container-id-1 div.sk-toggleable {background-color: white;}#sk-container-id-1 label.sk-toggleable__label {cursor: pointer;display: block;width: 100%;margin-bottom: 0;padding: 0.3em;box-sizing: border-box;text-align: center;}#sk-container-id-1 label.sk-toggleable__label-arrow:before {content: \"▸\";float: left;margin-right: 0.25em;color: #696969;}#sk-container-id-1 label.sk-toggleable__label-arrow:hover:before {color: black;}#sk-container-id-1 div.sk-estimator:hover label.sk-toggleable__label-arrow:before {color: black;}#sk-container-id-1 div.sk-toggleable__content {max-height: 0;max-width: 0;overflow: hidden;text-align: left;background-color: #f0f8ff;}#sk-container-id-1 div.sk-toggleable__content pre {margin: 0.2em;color: black;border-radius: 0.25em;background-color: #f0f8ff;}#sk-container-id-1 input.sk-toggleable__control:checked~div.sk-toggleable__content {max-height: 200px;max-width: 100%;overflow: auto;}#sk-container-id-1 input.sk-toggleable__control:checked~label.sk-toggleable__label-arrow:before {content: \"▾\";}#sk-container-id-1 div.sk-estimator input.sk-toggleable__control:checked~label.sk-toggleable__label {background-color: #d4ebff;}#sk-container-id-1 div.sk-label input.sk-toggleable__control:checked~label.sk-toggleable__label {background-color: #d4ebff;}#sk-container-id-1 input.sk-hidden--visually {border: 0;clip: rect(1px 1px 1px 1px);clip: rect(1px, 1px, 1px, 1px);height: 1px;margin: -1px;overflow: hidden;padding: 0;position: absolute;width: 1px;}#sk-container-id-1 div.sk-estimator {font-family: monospace;background-color: #f0f8ff;border: 1px dotted black;border-radius: 0.25em;box-sizing: border-box;margin-bottom: 0.5em;}#sk-container-id-1 div.sk-estimator:hover {background-color: #d4ebff;}#sk-container-id-1 div.sk-parallel-item::after {content: \"\";width: 100%;border-bottom: 1px solid gray;flex-grow: 1;}#sk-container-id-1 div.sk-label:hover label.sk-toggleable__label {background-color: #d4ebff;}#sk-container-id-1 div.sk-serial::before {content: \"\";position: absolute;border-left: 1px solid gray;box-sizing: border-box;top: 0;bottom: 0;left: 50%;z-index: 0;}#sk-container-id-1 div.sk-serial {display: flex;flex-direction: column;align-items: center;background-color: white;padding-right: 0.2em;padding-left: 0.2em;position: relative;}#sk-container-id-1 div.sk-item {position: relative;z-index: 1;}#sk-container-id-1 div.sk-parallel {display: flex;align-items: stretch;justify-content: center;background-color: white;position: relative;}#sk-container-id-1 div.sk-item::before, #sk-container-id-1 div.sk-parallel-item::before {content: \"\";position: absolute;border-left: 1px solid gray;box-sizing: border-box;top: 0;bottom: 0;left: 50%;z-index: -1;}#sk-container-id-1 div.sk-parallel-item {display: flex;flex-direction: column;z-index: 1;position: relative;background-color: white;}#sk-container-id-1 div.sk-parallel-item:first-child::after {align-self: flex-end;width: 50%;}#sk-container-id-1 div.sk-parallel-item:last-child::after {align-self: flex-start;width: 50%;}#sk-container-id-1 div.sk-parallel-item:only-child::after {width: 0;}#sk-container-id-1 div.sk-dashed-wrapped {border: 1px dashed gray;margin: 0 0.4em 0.5em 0.4em;box-sizing: border-box;padding-bottom: 0.4em;background-color: white;}#sk-container-id-1 div.sk-label label {font-family: monospace;font-weight: bold;display: inline-block;line-height: 1.2em;}#sk-container-id-1 div.sk-label-container {text-align: center;}#sk-container-id-1 div.sk-container {/* jupyter's `normalize.less` sets `[hidden] { display: none; }` but bootstrap.min.css set `[hidden] { display: none !important; }` so we also need the `!important` here to be able to override the default hidden behavior on the sphinx rendered scikit-learn.org. See: https://github.com/scikit-learn/scikit-learn/issues/21755 */display: inline-block !important;position: relative;}#sk-container-id-1 div.sk-text-repr-fallback {display: none;}</style><div id=\"sk-container-id-1\" class=\"sk-top-container\"><div class=\"sk-text-repr-fallback\"><pre>GridSearchCV(cv=5, estimator=SVC(class_weight=&#x27;balanced&#x27;, random_state=20),\n",
       "             param_grid={&#x27;C&#x27;: [1, 10, 100], &#x27;gamma&#x27;: [0.1, 0.01, 0.001],\n",
       "                         &#x27;kernel&#x27;: [&#x27;rbf&#x27;, &#x27;sigmoid&#x27;]},\n",
       "             scoring=&#x27;f1&#x27;, verbose=3)</pre><b>In a Jupyter environment, please rerun this cell to show the HTML representation or trust the notebook. <br />On GitHub, the HTML representation is unable to render, please try loading this page with nbviewer.org.</b></div><div class=\"sk-container\" hidden><div class=\"sk-item sk-dashed-wrapped\"><div class=\"sk-label-container\"><div class=\"sk-label sk-toggleable\"><input class=\"sk-toggleable__control sk-hidden--visually\" id=\"sk-estimator-id-1\" type=\"checkbox\" ><label for=\"sk-estimator-id-1\" class=\"sk-toggleable__label sk-toggleable__label-arrow\">GridSearchCV</label><div class=\"sk-toggleable__content\"><pre>GridSearchCV(cv=5, estimator=SVC(class_weight=&#x27;balanced&#x27;, random_state=20),\n",
       "             param_grid={&#x27;C&#x27;: [1, 10, 100], &#x27;gamma&#x27;: [0.1, 0.01, 0.001],\n",
       "                         &#x27;kernel&#x27;: [&#x27;rbf&#x27;, &#x27;sigmoid&#x27;]},\n",
       "             scoring=&#x27;f1&#x27;, verbose=3)</pre></div></div></div><div class=\"sk-parallel\"><div class=\"sk-parallel-item\"><div class=\"sk-item\"><div class=\"sk-label-container\"><div class=\"sk-label sk-toggleable\"><input class=\"sk-toggleable__control sk-hidden--visually\" id=\"sk-estimator-id-2\" type=\"checkbox\" ><label for=\"sk-estimator-id-2\" class=\"sk-toggleable__label sk-toggleable__label-arrow\">estimator: SVC</label><div class=\"sk-toggleable__content\"><pre>SVC(class_weight=&#x27;balanced&#x27;, random_state=20)</pre></div></div></div><div class=\"sk-serial\"><div class=\"sk-item\"><div class=\"sk-estimator sk-toggleable\"><input class=\"sk-toggleable__control sk-hidden--visually\" id=\"sk-estimator-id-3\" type=\"checkbox\" ><label for=\"sk-estimator-id-3\" class=\"sk-toggleable__label sk-toggleable__label-arrow\">SVC</label><div class=\"sk-toggleable__content\"><pre>SVC(class_weight=&#x27;balanced&#x27;, random_state=20)</pre></div></div></div></div></div></div></div></div></div></div>"
      ],
      "text/plain": [
       "GridSearchCV(cv=5, estimator=SVC(class_weight='balanced', random_state=20),\n",
       "             param_grid={'C': [1, 10, 100], 'gamma': [0.1, 0.01, 0.001],\n",
       "                         'kernel': ['rbf', 'sigmoid']},\n",
       "             scoring='f1', verbose=3)"
      ]
     },
     "execution_count": 53,
     "metadata": {},
     "output_type": "execute_result"
    }
   ],
   "source": [
    "%%time\n",
    "# fit the grid search to our data\n",
    "grid_baseline.fit(tfidf_data_train, y_train)\n",
    "\n",
    "# this cell takes 17118minutes59.3s to run    Wall time: 1d 4h 39min 53s"
   ]
  },
  {
   "cell_type": "code",
   "execution_count": 55,
   "metadata": {},
   "outputs": [
    {
     "name": "stdout",
     "output_type": "stream",
     "text": [
      "F1 Score: 0.31153972201751096\n",
      "Best Hyperparameters: {'C': 100, 'gamma': 0.001, 'kernel': 'rbf'}\n",
      "Model object with best parameters: \n",
      "SVC(C=100, class_weight='balanced', gamma=0.001, random_state=20)\n"
     ]
    }
   ],
   "source": [
    "# generate score with .best_score_ and hyperparemeters with .best_params_\n",
    "print('F1 Score:', grid_baseline.best_score_)\n",
    "print('Best Hyperparameters:', grid_baseline.best_params_)\n",
    "print('Model object with best parameters: ')\n",
    "print(grid_baseline.best_estimator_)"
   ]
  },
  {
   "cell_type": "markdown",
   "metadata": {},
   "source": [
    "The grid search found that the best hyperparameters are `{'C': 100, 'gamma': 0.001, 'kernel': 'rbf'}`.\n"
   ]
  },
  {
   "cell_type": "code",
   "execution_count": 56,
   "metadata": {},
   "outputs": [
    {
     "name": "stdout",
     "output_type": "stream",
     "text": [
      "Tuned SVM Model Predictions\n",
      "F1 on train set: 0.5239021394206163\n",
      "F1 on test set: 0.3188235294117647\n"
     ]
    }
   ],
   "source": [
    "# Predict the response for test dataset\n",
    "grid_base_y_pred_train = grid_baseline.best_estimator_.predict(tfidf_data_train)\n",
    "\n",
    "# predict the training set\n",
    "grid_base_y_pred_test = grid_baseline.best_estimator_.predict(tfidf_data_test)\n",
    "\n",
    "# Model F1, how often is the classifier correct?\n",
    "print('Tuned SVM Model Predictions')\n",
    "print(\"F1 on train set:\",metrics.f1_score(y_train, grid_base_y_pred_train))\n",
    "print(\"F1 on test set:\",metrics.f1_score(y_test, grid_base_y_pred_test))"
   ]
  },
  {
   "cell_type": "code",
   "execution_count": 58,
   "metadata": {},
   "outputs": [],
   "source": [
    "# setting variables for evaluation metrics\n",
    "grid_precision = precision_score(y_test, grid_base_y_pred_test)\n",
    "grid_recall = recall_score(y_test, grid_base_y_pred_test)\n",
    "grid_f1_score = f1_score(y_test, grid_base_y_pred_test)\n",
    "grid_weighted_f1_score = f1_score(y_test, grid_base_y_pred_test, average='weighted')"
   ]
  },
  {
   "cell_type": "code",
   "execution_count": 59,
   "metadata": {},
   "outputs": [],
   "source": [
    "# adding these metrics to evaluation metric dict\n",
    "metric_dict['Grid Search SVM'] = {'precision': grid_precision, 'recall': grid_recall, 'f1_score': grid_f1_score, 'weighted_f1': grid_weighted_f1_score}"
   ]
  },
  {
   "cell_type": "code",
   "execution_count": 60,
   "metadata": {},
   "outputs": [
    {
     "data": {
      "text/html": [
       "<div>\n",
       "<style scoped>\n",
       "    .dataframe tbody tr th:only-of-type {\n",
       "        vertical-align: middle;\n",
       "    }\n",
       "\n",
       "    .dataframe tbody tr th {\n",
       "        vertical-align: top;\n",
       "    }\n",
       "\n",
       "    .dataframe thead th {\n",
       "        text-align: right;\n",
       "    }\n",
       "</style>\n",
       "<table border=\"1\" class=\"dataframe\">\n",
       "  <thead>\n",
       "    <tr style=\"text-align: right;\">\n",
       "      <th></th>\n",
       "      <th>precision</th>\n",
       "      <th>recall</th>\n",
       "      <th>f1_score</th>\n",
       "      <th>weighted_f1</th>\n",
       "    </tr>\n",
       "  </thead>\n",
       "  <tbody>\n",
       "    <tr>\n",
       "      <th>Baseline SVM</th>\n",
       "      <td>0.317614</td>\n",
       "      <td>0.337758</td>\n",
       "      <td>0.327377</td>\n",
       "      <td>0.907561</td>\n",
       "    </tr>\n",
       "    <tr>\n",
       "      <th>Baseline SVM Oversampled with SMOTE</th>\n",
       "      <td>0.351562</td>\n",
       "      <td>0.265487</td>\n",
       "      <td>0.302521</td>\n",
       "      <td>0.911884</td>\n",
       "    </tr>\n",
       "    <tr>\n",
       "      <th>Baseline SVM Undersampled with Tomek Links</th>\n",
       "      <td>0.577465</td>\n",
       "      <td>0.060472</td>\n",
       "      <td>0.109479</td>\n",
       "      <td>0.907644</td>\n",
       "    </tr>\n",
       "    <tr>\n",
       "      <th>Grid Search SVM</th>\n",
       "      <td>0.199118</td>\n",
       "      <td>0.799410</td>\n",
       "      <td>0.318824</td>\n",
       "      <td>0.824432</td>\n",
       "    </tr>\n",
       "  </tbody>\n",
       "</table>\n",
       "</div>"
      ],
      "text/plain": [
       "                                            precision    recall  f1_score  \\\n",
       "Baseline SVM                                 0.317614  0.337758  0.327377   \n",
       "Baseline SVM Oversampled with SMOTE          0.351562  0.265487  0.302521   \n",
       "Baseline SVM Undersampled with Tomek Links   0.577465  0.060472  0.109479   \n",
       "Grid Search SVM                              0.199118  0.799410  0.318824   \n",
       "\n",
       "                                            weighted_f1  \n",
       "Baseline SVM                                   0.907561  \n",
       "Baseline SVM Oversampled with SMOTE            0.911884  \n",
       "Baseline SVM Undersampled with Tomek Links     0.907644  \n",
       "Grid Search SVM                                0.824432  "
      ]
     },
     "execution_count": 60,
     "metadata": {},
     "output_type": "execute_result"
    }
   ],
   "source": [
    "# comparing with other models\n",
    "pd.DataFrame.from_dict(metric_dict, orient='index')"
   ]
  },
  {
   "cell_type": "markdown",
   "metadata": {},
   "source": [
    "Unfortunately, the model with grid searched hyperparameters didn't perform better than the baseline."
   ]
  }
 ],
 "metadata": {
  "kernelspec": {
   "display_name": "Python 3.9.7 ('base')",
   "language": "python",
   "name": "python3"
  },
  "language_info": {
   "codemirror_mode": {
    "name": "ipython",
    "version": 3
   },
   "file_extension": ".py",
   "mimetype": "text/x-python",
   "name": "python",
   "nbconvert_exporter": "python",
   "pygments_lexer": "ipython3",
   "version": "3.9.7"
  },
  "orig_nbformat": 4,
  "vscode": {
   "interpreter": {
    "hash": "df5a47594a4c7fa77718041c239adbe925734d95d528854ea959dd8eef4ca91e"
   }
  }
 },
 "nbformat": 4,
 "nbformat_minor": 2
}
